{
 "cells": [
  {
   "cell_type": "markdown",
   "id": "0565d27b-a8bb-4ab5-8b61-be6a2ac1c97f",
   "metadata": {},
   "source": [
    "# Ideas\n",
    "This notebook is being used to test ideas before spending the time to create a fully notebook. \n",
    "Anything found here may or may not work.\n",
    "Use the examples as guides not fact."
   ]
  },
  {
   "cell_type": "code",
   "execution_count": 8,
   "id": "e604f97d-db6a-4068-9047-9227c9375664",
   "metadata": {},
   "outputs": [
    {
     "data": {
      "text/plain": [
       "'/home/jimfitz/go/src/github.com/integr8ly/integreatly-operator'"
      ]
     },
     "execution_count": 8,
     "metadata": {},
     "output_type": "execute_result"
    }
   ],
   "source": [
    "import os\n",
    "from pathlib import Path\n",
    "\n",
    "repo = Path.home().joinpath('go/src/github.com/integr8ly/integreatly-operator')\n",
    "\n",
    "os.chdir(repo)\n",
    "\n",
    "os.getcwd()"
   ]
  },
  {
   "cell_type": "code",
   "execution_count": 9,
   "id": "c0a48314-55df-4c34-ba00-28e1878c4829",
   "metadata": {},
   "outputs": [
    {
     "name": "stdout",
     "output_type": "stream",
     "text": [
      "GO111MODULE=off go get github.com/matryer/moq\n",
      "/home/jimfitz/go/src/github.com/integr8ly/integreatly-operator/bin/controller-gen object:headerFile=\"hack/boilerplate.go.txt\" paths=\"./...\"\n",
      "/home/jimfitz/go/src/github.com/integr8ly/integreatly-operator/bin/controller-gen rbac:roleName=manager-role crd webhook paths=\"./...\" output:crd:artifacts:config=config/crd/bases\n",
      "mv ./config/crd/bases/integreatly.org_apimanagementtenants.yaml ./config/crd-sandbox/bases\n",
      "echo \"build image quay.io/integreatly/managed-api-service:v1.27.0\"\n",
      "build image quay.io/integreatly/managed-api-service:v1.27.0\n",
      "docker build -t quay.io/integreatly/managed-api-service:v1.27.0 .\n",
      "Emulate Docker CLI using podman. Create /etc/containers/nodocker to quiet msg.\n",
      "[1/2] STEP 1/12: FROM registry.ci.openshift.org/openshift/release:golang-1.18 AS builder\n",
      "[1/2] STEP 2/12: WORKDIR /workspace\n",
      "--> Using cache 6f9d36735167922fb0e0077c1d14c236a0322e988238013fb956fe791bb52b10\n",
      "--> 6f9d3673516\n",
      "[1/2] STEP 3/12: COPY go.mod go.mod\n",
      "--> Using cache 3cc5c615bb459694ac221b9aac83fc5ea0bcfbc2fb7cd4f2f502aa5fb2c637ac\n",
      "--> 3cc5c615bb4\n",
      "[1/2] STEP 4/12: COPY go.sum go.sum\n",
      "--> Using cache 69ff812ab78732126ee61b4b56a8c346b39142a1d72e72a9ff89b24ec5ac125c\n",
      "--> 69ff812ab78\n",
      "[1/2] STEP 5/12: COPY vendor/ vendor/\n",
      "--> Using cache 8bfe661fc54d5ca16247c50b02688aeffc7655708eb13e7dc21a0fe8f9985c1c\n",
      "--> 8bfe661fc54\n",
      "[1/2] STEP 6/12: COPY main.go main.go\n",
      "--> Using cache 920af0fb6d828c5fb7e451924650255769b606b92befc20e20328e4f73aa0ffe\n",
      "--> 920af0fb6d8\n",
      "[1/2] STEP 7/12: COPY apis/ apis/\n",
      "--> Using cache 0b89391e4ba878a59a5943d23e550ce8c453431a93fd061cdd815b334289a73d\n",
      "--> 0b89391e4ba\n",
      "[1/2] STEP 8/12: COPY controllers/ controllers/\n",
      "--> Using cache 50bccf4fbec2baa69037f8e76ef663fe9c7fa7665246fb168920ccd0b2fa3954\n",
      "--> 50bccf4fbec\n",
      "[1/2] STEP 9/12: COPY pkg/ pkg/\n",
      "--> Using cache ea02a59a311bae6b6044253767b89b43d8bdd4d4c96565d8968115f1a7f63bb5\n",
      "--> ea02a59a311\n",
      "[1/2] STEP 10/12: COPY version/ version/\n",
      "--> Using cache 9467c14e7d8bb3af4a000c8d99fb65cb1e50081188f9607e0c57f294a9ae1efa\n",
      "--> 9467c14e7d8\n",
      "[1/2] STEP 11/12: COPY test/ test/\n",
      "--> Using cache ba12f8495a0d6817c711a0010a87b2f12749719e0887f7ae2c0eab4a42cbebf8\n",
      "--> ba12f8495a0\n",
      "[1/2] STEP 12/12: RUN CGO_ENABLED=0 GOOS=linux GOARCH=amd64 go build -a -o rhmi-operator main.go\n",
      "--> Using cache 265dc8744ea2151e399e344e419f08f98f9a56397aa775e1f703e0b4a2540bbd\n",
      "--> 265dc8744ea\n",
      "[2/2] STEP 1/10: FROM registry.access.redhat.com/ubi8/ubi-minimal:latest\n",
      "[2/2] STEP 2/10: ENV OPERATOR=/usr/local/bin/rhmi-operator     USER_UID=1001     USER_NAME=integreatly-operator\n",
      "--> Using cache 6a76a1f8830b24a43143a24fee659679a3716d8414dfa98b2ea0e8f5c4e30da3\n",
      "--> 6a76a1f8830\n",
      "[2/2] STEP 3/10: COPY --from=builder /workspace/rhmi-operator /usr/local/bin/rhmi-operator\n",
      "--> Using cache 59628d807d63d4ee33aabdf6f5bcacdbd13fa625acfa42564dcae153713f629d\n",
      "--> 59628d807d6\n",
      "[2/2] STEP 4/10: COPY templates /templates\n",
      "--> Using cache 0941385fc80f729c3b1be27cb54369e98af967cf6d4b8c12ffa71e52da296c0c\n",
      "--> 0941385fc80\n",
      "[2/2] STEP 5/10: COPY manifests /manifests\n",
      "--> Using cache 571604cb7c6076c861d6b893964233c3a5507c9a04c5bf89a4c2c42b99e7e17f\n",
      "--> 571604cb7c6\n",
      "[2/2] STEP 6/10: COPY products /products\n",
      "--> Using cache 00e89cb75ed538c393d2c5038a0bee5008c8df5b21f7228ce2fb2528b8cbf698\n",
      "--> 00e89cb75ed\n",
      "[2/2] STEP 7/10: COPY build/bin /usr/local/bin\n",
      "--> Using cache 2cfc39fc3088688da81cc7d2eee4dccd81c6a2a57d9c674dbabfdae12df00341\n",
      "--> 2cfc39fc308\n",
      "[2/2] STEP 8/10: RUN /usr/local/bin/user_setup\n",
      "--> Using cache e747284396d1d777b14f61098f193a5fe8592830580227fcf155838d337c412c\n",
      "--> e747284396d\n",
      "[2/2] STEP 9/10: ENTRYPOINT [\"/usr/local/bin/entrypoint\"]\n",
      "--> Using cache 8b9f4a577e6fd9c280d0ad7666fe36490d36b952c03fb7d31472212ace2e72ab\n",
      "--> 8b9f4a577e6\n",
      "[2/2] STEP 10/10: USER ${USER_UID}\n",
      "--> Using cache 44bf497fd81bc7b28ffd8c0e295a22525d7d8f9c80c588342e00ad7765f024e1\n",
      "[2/2] COMMIT quay.io/integreatly/managed-api-service:v1.27.0\n",
      "--> 44bf497fd81\n",
      "Successfully tagged quay.io/integreatly/managed-api-service:v1.27.0\n",
      "Successfully tagged quay.io/jfitzpat/managed-api-service:v1.27.0\n",
      "44bf497fd81bc7b28ffd8c0e295a22525d7d8f9c80c588342e00ad7765f024e1\n"
     ]
    }
   ],
   "source": [
    "! make image/build\n"
   ]
  },
  {
   "cell_type": "code",
   "execution_count": 7,
   "id": "3771ee44-56f1-4867-82a5-df71c05d5df6",
   "metadata": {},
   "outputs": [
    {
     "name": "stdout",
     "output_type": "stream",
     "text": [
      "go mod tidy\n",
      "go mod vendor\n",
      "git diff --exit-code vendor/\n",
      "git diff --exit-code go.sum\n"
     ]
    }
   ],
   "source": [
    "! make vendor/check\n",
    "# This is checking to see if the current working path is remembered"
   ]
  },
  {
   "cell_type": "code",
   "execution_count": null,
   "id": "fbbbc579-e249-40fd-8526-6d82d61557db",
   "metadata": {},
   "outputs": [],
   "source": []
  }
 ],
 "metadata": {
  "kernelspec": {
   "display_name": "Python 3 (ipykernel)",
   "language": "python",
   "name": "python3"
  },
  "language_info": {
   "codemirror_mode": {
    "name": "ipython",
    "version": 3
   },
   "file_extension": ".py",
   "mimetype": "text/x-python",
   "name": "python",
   "nbconvert_exporter": "python",
   "pygments_lexer": "ipython3",
   "version": "3.10.6"
  }
 },
 "nbformat": 4,
 "nbformat_minor": 5
}
