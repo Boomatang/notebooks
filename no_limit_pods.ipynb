{
 "cells": [
  {
   "cell_type": "markdown",
   "id": "4aedce4e-fb52-456b-86ba-2c9ca728eefa",
   "metadata": {
    "pycharm": {
     "name": "#%% md\n"
    }
   },
   "source": [
    "# Introduction\n",
    "This script gets a list of all the pods that do not have resources set as part of their deployment.\n",
    "Pods in the `redhat-rhoam` namespace is selected.\n",
    "\n",
    "The only external tool this script requires is `oc` and it should be logged into a cluster you wish to investigate.\n",
    "There is no error handling done around the oc calling some debug may be required if the json models are not loaded.\n",
    "\n"
   ]
  },
  {
   "cell_type": "markdown",
   "id": "2c92a702-90a2-459f-abd0-58e8fedd6a5b",
   "metadata": {
    "pycharm": {
     "name": "#%% md\n"
    }
   },
   "source": [
    "# Raw Data\n",
    "Get the values for all the pods on the cluster.\n",
    "This is all the pod in a running or complete state."
   ]
  },
  {
   "cell_type": "code",
   "execution_count": 2,
   "id": "e30b253f-b8af-4b1b-a879-e4f3821b175c",
   "metadata": {
    "pycharm": {
     "name": "#%%\n"
    }
   },
   "outputs": [],
   "source": [
    "from subprocess import run\n",
    "\n",
    "raw_data = run([\"oc\", \"get\", \"pods\", \"-A\", \"-o\", \"json\"], capture_output=True)"
   ]
  },
  {
   "cell_type": "markdown",
   "id": "a2abaf4a-72a6-44d1-8b59-77487753590e",
   "metadata": {
    "pycharm": {
     "name": "#%% md\n"
    },
    "tags": []
   },
   "source": [
    "# Data models"
   ]
  },
  {
   "cell_type": "code",
   "execution_count": 3,
   "id": "6e1e249f-7ceb-4e32-82a5-d7e1edcb2d95",
   "metadata": {
    "pycharm": {
     "name": "#%%\n"
    },
    "tags": []
   },
   "outputs": [],
   "source": [
    "from pydantic import BaseModel\n",
    "from typing import List, Optional\n",
    "\n",
    "class Metadata(BaseModel):\n",
    "    name: Optional[str] = None\n",
    "    namespace: Optional[str] = None\n",
    "    \n",
    "class Limits(BaseModel):\n",
    "    cpu: Optional[str] = None\n",
    "    memory: Optional[str] = None\n",
    "\n",
    "class Resources(BaseModel):\n",
    "    limits: Optional[Limits] = None\n",
    "    requests: Optional[Limits] = None\n",
    "    \n",
    "class Containers(BaseModel):\n",
    "    resources: Optional[Resources] = None\n",
    "    image: Optional[str]\n",
    "    name: Optional[str]\n",
    "    \n",
    "class Spec(BaseModel):\n",
    "    containers: List[Containers]\n",
    "    \n",
    "class CR(BaseModel):\n",
    "    metadata: Metadata\n",
    "    spec: Spec\n",
    "\n",
    "class CRList(BaseModel):\n",
    "    items: List[CR]\n",
    "    \n",
    "class Unit(BaseModel):\n",
    "    back_ref: Optional[CR]\n",
    "    resources: Optional[Resources] = None\n",
    "    image: Optional[str]\n",
    "    name: Optional[str]\n"
   ]
  },
  {
   "cell_type": "markdown",
   "id": "9184fd3b-9315-4664-8b39-43ad1c6a38a6",
   "metadata": {
    "pycharm": {
     "name": "#%% md\n"
    }
   },
   "source": [
    "# Load Data\n",
    "Load a list of all the pods found on the cluster"
   ]
  },
  {
   "cell_type": "code",
   "execution_count": 4,
   "id": "7419c47e-823a-4a8e-b116-f9788eb64cb6",
   "metadata": {
    "pycharm": {
     "name": "#%%\n"
    }
   },
   "outputs": [
    {
     "name": "stdout",
     "output_type": "stream",
     "text": [
      "Number of pods found 573\n"
     ]
    }
   ],
   "source": [
    "import json\n",
    "data = json.loads(raw_data.stdout)\n",
    "data = CRList(**data)\n",
    "print(f\"Number of pods found {len(data.items)}\")"
   ]
  },
  {
   "cell_type": "markdown",
   "id": "fdfaadc9-f82a-42fe-bf6d-9c816032bfb2",
   "metadata": {
    "pycharm": {
     "name": "#%% md\n"
    }
   },
   "source": [
    "# Filter Data\n",
    "Filter only pods in the RHOAM namespaces"
   ]
  },
  {
   "cell_type": "code",
   "execution_count": 5,
   "id": "8ca8a033-52e2-408b-89a7-63c0f36e851c",
   "metadata": {
    "pycharm": {
     "name": "#%%\n"
    },
    "tags": []
   },
   "outputs": [
    {
     "name": "stdout",
     "output_type": "stream",
     "text": [
      "Number of pods in RHOAM name spaces: 94\n"
     ]
    }
   ],
   "source": [
    "namespace_prefix = \"redhat-rhoam\"\n",
    "items = []\n",
    "\n",
    "# item = data.items\n",
    "\n",
    "for item in data.items:\n",
    "    if item.metadata.namespace.startswith(namespace_prefix):\n",
    "        items.append(item)\n",
    "        \n",
    "print(f\"Number of pods in RHOAM name spaces: {len(items)}\")"
   ]
  },
  {
   "cell_type": "markdown",
   "id": "20245e66-2409-43bd-a3ea-29afe35c5b03",
   "metadata": {
    "pycharm": {
     "name": "#%% md\n"
    }
   },
   "source": [
    "Switch view to use the containers in a pod over the pods.\n",
    "A pod may have many containers with in it, which may have no values set.\n",
    "\n",
    "Sort the containers in to list which have resources set or not.\n"
   ]
  },
  {
   "cell_type": "code",
   "execution_count": 6,
   "id": "09b4083e-2aa4-4ea5-823c-553f9dd046aa",
   "metadata": {
    "pycharm": {
     "name": "#%%\n"
    }
   },
   "outputs": [
    {
     "name": "stdout",
     "output_type": "stream",
     "text": [
      "115\n"
     ]
    }
   ],
   "source": [
    "units = []\n",
    "\n",
    "for item in items:\n",
    "    for container in item.spec.containers:\n",
    "        unit = Unit()\n",
    "        unit.name = container.name\n",
    "        unit.image = container.image\n",
    "        unit.resources = container.resources\n",
    "        unit.back_ref = item\n",
    "        units.append(unit)\n",
    "\n",
    "print(len(units))"
   ]
  },
  {
   "cell_type": "code",
   "execution_count": 7,
   "id": "357b39e2-d817-4436-81ac-a23788c4d78b",
   "metadata": {
    "pycharm": {
     "name": "#%%\n"
    }
   },
   "outputs": [],
   "source": [
    "no_limits = []\n",
    "has_limits = []\n",
    "\n",
    "for item in units: \n",
    "    if item.resources.limits is None or item.resources.requests is None:\n",
    "        no_limits.append(item)\n",
    "    else:\n",
    "        has_limits.append(item)"
   ]
  },
  {
   "cell_type": "code",
   "execution_count": 8,
   "id": "dd8f9113-6497-4cd4-aeaa-82d25d73c85d",
   "metadata": {
    "pycharm": {
     "name": "#%%\n"
    }
   },
   "outputs": [
    {
     "name": "stdout",
     "output_type": "stream",
     "text": [
      "pods with no limits 71\n",
      "pods with limits 44\n"
     ]
    }
   ],
   "source": [
    "print(f\"pods with no limits {len(no_limits)}\")\n",
    "print(f\"pods with limits {len(has_limits)}\")"
   ]
  },
  {
   "cell_type": "markdown",
   "id": "40abcb90-5f8c-4264-818a-d33b06965553",
   "metadata": {
    "pycharm": {
     "name": "#%% md\n"
    }
   },
   "source": [
    "Group the limit issues\n"
   ]
  },
  {
   "cell_type": "code",
   "execution_count": 9,
   "id": "ebe4c296-f572-4618-b23f-7806c2efa290",
   "metadata": {
    "pycharm": {
     "name": "#%%\n"
    }
   },
   "outputs": [],
   "source": [
    "no_resources = []\n",
    "no_resource_limits = []\n",
    "no_resource_requests = []\n",
    "unknown = []\n",
    "\n",
    "for item in no_limits:\n",
    "    if item.resources.limits is None and item.resources.requests is None:\n",
    "        no_resources.append(item)\n",
    "    elif item.resources.limits is None:\n",
    "        no_resource_limits.append(item)\n",
    "    elif item.resources.requests is None:\n",
    "        no_resource_requests.append(item)\n",
    "    else:\n",
    "        unknown.append(item)\n"
   ]
  },
  {
   "cell_type": "code",
   "execution_count": 10,
   "id": "a00bfd84-52d4-4338-b53f-2d1e2e77641c",
   "metadata": {
    "pycharm": {
     "name": "#%%\n"
    }
   },
   "outputs": [
    {
     "name": "stdout",
     "output_type": "stream",
     "text": [
      "Number of pods with both sets of resources missing 51\n",
      "Number of pods with limits missing 20\n",
      "Number of pods with request limits missing 0\n"
     ]
    }
   ],
   "source": [
    "print(f\"Number of pods with both sets of resources missing {len(no_resources)}\")\n",
    "print(f\"Number of pods with limits missing {len(no_resource_limits)}\")\n",
    "print(f\"Number of pods with request limits missing {len(no_resource_requests)}\")\n",
    "if len(unknown) > 0:\n",
    "    print(f\"Some pods seem to have issues being added to the correct list. Number of these pods are {len(unknown)}\")"
   ]
  },
  {
   "cell_type": "markdown",
   "id": "9ddef296-ad50-43b0-b5f6-f76bda34341d",
   "metadata": {
    "pycharm": {
     "name": "#%% md\n"
    }
   },
   "source": [
    "# Explore data\n",
    "\n",
    "\n",
    "## No resources set\n",
    "Get the list of pods that have no resources set.\n",
    "Pods that are collect as unknown are not worked on here."
   ]
  },
  {
   "cell_type": "code",
   "execution_count": 15,
   "outputs": [
    {
     "name": "stdout",
     "output_type": "stream",
     "text": [
      "Number of containers ignored: 27\n",
      "Namespace             Pod Name                     Container Name\n",
      "--------------------  ---------------------------  ----------------\n",
      "redhat-rhoami-3scale  apicast-production-1-deploy  deployment\n",
      "redhat-rhoami-3scale  apicast-production-3-deploy  deployment\n",
      "redhat-rhoami-3scale  apicast-staging-1-deploy     deployment\n",
      "redhat-rhoami-3scale  apicast-staging-3-deploy     deployment\n",
      "redhat-rhoami-3scale  backend-cron-1-deploy        deployment\n",
      "redhat-rhoami-3scale  backend-cron-2-deploy        deployment\n",
      "redhat-rhoami-3scale  backend-listener-1-deploy    deployment\n",
      "redhat-rhoami-3scale  backend-listener-3-deploy    deployment\n",
      "redhat-rhoami-3scale  backend-worker-1-deploy      deployment\n",
      "redhat-rhoami-3scale  backend-worker-2-deploy      deployment\n",
      "redhat-rhoami-3scale  system-app-7-deploy          deployment\n",
      "redhat-rhoami-3scale  system-app-8-deploy          deployment\n",
      "redhat-rhoami-3scale  system-memcache-1-deploy     deployment\n",
      "redhat-rhoami-3scale  system-memcache-2-deploy     deployment\n",
      "redhat-rhoami-3scale  system-sidekiq-7-deploy      deployment\n",
      "redhat-rhoami-3scale  system-sidekiq-8-deploy      deployment\n",
      "redhat-rhoami-3scale  system-sphinx-1-deploy       deployment\n",
      "redhat-rhoami-3scale  system-sphinx-2-deploy       deployment\n",
      "redhat-rhoami-3scale  zync-1-deploy                deployment\n",
      "redhat-rhoami-3scale  zync-2-deploy                deployment\n",
      "redhat-rhoami-3scale  zync-database-1-deploy       deployment\n",
      "redhat-rhoami-3scale  zync-database-2-deploy       deployment\n",
      "redhat-rhoami-3scale  zync-que-1-deploy            deployment\n",
      "redhat-rhoami-3scale  zync-que-2-deploy            deployment\n"
     ]
    }
   ],
   "source": [
    "from tabulate import tabulate\n",
    "\n",
    "header = [\"Namespace\", \"Pod Name\", \"Container Name\"]\n",
    "data = []\n",
    "ignored = 0\n",
    "ignore = [\"deployment\"]\n",
    "\n",
    "for container in no_resources:\n",
    "    if container.name not in ignore:\n",
    "        ignored += 1\n",
    "    else:\n",
    "        data.append((container.back_ref.metadata.namespace, container.back_ref.metadata.name, container.name))\n",
    "\n",
    "if ignored:\n",
    "    print(f\"Number of containers ignored: {ignored}\")\n",
    "\n",
    "table = tabulate(data, header)\n",
    "print(table)"
   ],
   "metadata": {
    "collapsed": false,
    "pycharm": {
     "name": "#%%\n"
    }
   }
  },
  {
   "cell_type": "markdown",
   "source": [
    "## No Resource Limits\n",
    "\n",
    "Get the list of pods that have no resource limits set"
   ],
   "metadata": {
    "collapsed": false,
    "pycharm": {
     "name": "#%% md\n"
    }
   }
  },
  {
   "cell_type": "code",
   "execution_count": 12,
   "outputs": [
    {
     "name": "stdout",
     "output_type": "stream",
     "text": [
      "Number of conatiners ignored: 16\n",
      "Namespace                                   Pod Name                     Container Name\n",
      "------------------------------------------  ---------------------------  -------------------------\n",
      "redhat-rhoami-customer-monitoring-operator  rhmi-registry-cs-9p4vm       configmap-registry-server\n",
      "redhat-rhoami-marin3r-operator              rhmi-registry-cs-p4hnh       configmap-registry-server\n",
      "redhat-rhoami-observability                 alertmanager-alertmanager-0  alertmanager\n",
      "redhat-rhoami-observability                 prometheus-prometheus-0      prometheus\n"
     ]
    }
   ],
   "source": [
    "from tabulate import tabulate\n",
    "\n",
    "header = [\"Namespace\", \"Pod Name\", \"Container Name\"]\n",
    "data = []\n",
    "ignored = 0\n",
    "ignore = [\"registry-server\", \"extract\"]\n",
    "\n",
    "for container in no_resource_limits:\n",
    "    if container.name in ignore:\n",
    "        ignored += 1\n",
    "    else:\n",
    "        data.append((container.back_ref.metadata.namespace, container.back_ref.metadata.name, container.name))\n",
    "\n",
    "\n",
    "if ignored:\n",
    "    print(f\"Number of containers ignored: {ignored}\")\n",
    "    \n",
    "table = tabulate(data, header)\n",
    "print(table)"
   ],
   "metadata": {
    "collapsed": false,
    "pycharm": {
     "name": "#%%\n"
    }
   }
  },
  {
   "cell_type": "markdown",
   "id": "53c59260-a221-4603-a8a6-379cf62e1426",
   "metadata": {
    "pycharm": {
     "name": "#%% md\n"
    }
   },
   "source": [
    "## No Resource Requessts\n",
    "List the pods that don't have any resources requests set."
   ]
  },
  {
   "cell_type": "code",
   "execution_count": 13,
   "id": "5de58c1a-6279-41f0-8d16-a43e901822ec",
   "metadata": {
    "pycharm": {
     "name": "#%%\n"
    }
   },
   "outputs": [
    {
     "name": "stdout",
     "output_type": "stream",
     "text": [
      "Namespace    Pod Name    Container Name\n",
      "-----------  ----------  ----------------\n"
     ]
    }
   ],
   "source": [
    "from tabulate import tabulate\n",
    "\n",
    "header = [\"Namespace\", \"Pod Name\", \"Container Name\"]\n",
    "data = []\n",
    "\n",
    "for container in no_resource_requests:\n",
    "    data.append((container.back_ref.metadata.namespace, container.back_ref.metadata.name, container.name))\n",
    "\n",
    "table = tabulate(data, header)\n",
    "print(table)"
   ]
  },
  {
   "cell_type": "markdown",
   "id": "c546cc3a-7c74-4911-9ad8-0088645c2d4c",
   "metadata": {
    "pycharm": {
     "name": "#%% md\n"
    }
   },
   "source": [
    "## Unknown state\n",
    "This is a list of containers that could not be classed into the above groups.\n",
    "It is the failsafe.\n",
    "This list is expected to be always empty"
   ]
  },
  {
   "cell_type": "code",
   "execution_count": 14,
   "id": "0bcb3c8a-221e-483a-aa3f-59c6b99a8989",
   "metadata": {
    "pycharm": {
     "name": "#%%\n"
    }
   },
   "outputs": [
    {
     "name": "stdout",
     "output_type": "stream",
     "text": [
      "No unkown results found\n"
     ]
    }
   ],
   "source": [
    "from tabulate import tabulate\n",
    "\n",
    "header = [\"Namespace\", \"Pod Name\", \"Container Name\"]\n",
    "data = []\n",
    "\n",
    "if len(unknown) == 0:\n",
    "    print(\"No unkown results found\")\n",
    "else:\n",
    "    for container in unknown:\n",
    "        data.append((container.back_ref.metadata.namespace, container.back_ref.metadata.name, container.name))\n",
    "\n",
    "    table = tabulate(data, header)\n",
    "    print(table)"
   ]
  },
  {
   "cell_type": "code",
   "execution_count": 14,
   "id": "058c6a97-89c7-448b-b3e9-2d82d3113903",
   "metadata": {
    "pycharm": {
     "name": "#%%\n"
    }
   },
   "outputs": [],
   "source": []
  }
 ],
 "metadata": {
  "kernelspec": {
   "display_name": "Python 3 (ipykernel)",
   "language": "python",
   "name": "python3"
  },
  "language_info": {
   "codemirror_mode": {
    "name": "ipython",
    "version": 3
   },
   "file_extension": ".py",
   "mimetype": "text/x-python",
   "name": "python",
   "nbconvert_exporter": "python",
   "pygments_lexer": "ipython3",
   "version": "3.10.7"
  }
 },
 "nbformat": 4,
 "nbformat_minor": 5
}