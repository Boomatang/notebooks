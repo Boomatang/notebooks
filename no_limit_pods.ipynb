{
 "cells": [
  {
   "cell_type": "markdown",
   "id": "4aedce4e-fb52-456b-86ba-2c9ca728eefa",
   "metadata": {},
   "source": [
    "# Introduction\n",
    "This script gets a list of all the pods that do not have resources set as part of their deployment.\n",
    "Pods in the `redhat-rhoam` namespace is selected.\n",
    "\n",
    "The only external tool this script requires is `oc` and it should be logged into a cluster you wish to investigate.\n",
    "There is no error handling done around the oc calling some debug may be required if the json models are not loaded.\n",
    "\n"
   ]
  },
  {
   "cell_type": "markdown",
   "id": "2c92a702-90a2-459f-abd0-58e8fedd6a5b",
   "metadata": {},
   "source": [
    "# Raw Data\n",
    "Get the values for all the pods on the cluster.\n",
    "This is all the pod in a running or complete state."
   ]
  },
  {
   "cell_type": "code",
   "execution_count": 1,
   "id": "e30b253f-b8af-4b1b-a879-e4f3821b175c",
   "metadata": {},
   "outputs": [],
   "source": [
    "from subprocess import run\n",
    "\n",
    "raw_data = run([\"oc\", \"get\", \"pods\", \"-A\", \"-o\", \"json\"], capture_output=True)"
   ]
  },
  {
   "cell_type": "markdown",
   "id": "a2abaf4a-72a6-44d1-8b59-77487753590e",
   "metadata": {
    "tags": []
   },
   "source": [
    "# Data models"
   ]
  },
  {
   "cell_type": "code",
   "execution_count": 2,
   "id": "6e1e249f-7ceb-4e32-82a5-d7e1edcb2d95",
   "metadata": {
    "tags": []
   },
   "outputs": [],
   "source": [
    "from pydantic import BaseModel\n",
    "from typing import List, Optional\n",
    "\n",
    "class Metadata(BaseModel):\n",
    "    name: Optional[str] = None\n",
    "    namespace: Optional[str] = None\n",
    "    \n",
    "class Limits(BaseModel):\n",
    "    cpu: Optional[str] = None\n",
    "    memory: Optional[str] = None\n",
    "\n",
    "class Resources(BaseModel):\n",
    "    limits: Optional[Limits] = None\n",
    "    requests: Optional[Limits] = None\n",
    "    \n",
    "class Containers(BaseModel):\n",
    "    resources: Optional[Resources] = None\n",
    "    image: Optional[str]\n",
    "    name: Optional[str]\n",
    "    \n",
    "class Spec(BaseModel):\n",
    "    containers: List[Containers]\n",
    "    \n",
    "class CR(BaseModel):\n",
    "    metadata: Metadata\n",
    "    spec: Spec\n",
    "\n",
    "class CRList(BaseModel):\n",
    "    items: List[CR]\n",
    "    \n",
    "class Unit(BaseModel):\n",
    "    back_ref: Optional[CR]\n",
    "    resources: Optional[Resources] = None\n",
    "    image: Optional[str]\n",
    "    name: Optional[str]\n"
   ]
  },
  {
   "cell_type": "markdown",
   "id": "9184fd3b-9315-4664-8b39-43ad1c6a38a6",
   "metadata": {},
   "source": [
    "# Load Data\n",
    "Load a list of all the pods found on the cluster"
   ]
  },
  {
   "cell_type": "code",
   "execution_count": 3,
   "id": "7419c47e-823a-4a8e-b116-f9788eb64cb6",
   "metadata": {},
   "outputs": [
    {
     "name": "stdout",
     "output_type": "stream",
     "text": [
      "Number of pods found 514\n"
     ]
    }
   ],
   "source": [
    "import json\n",
    "data = json.loads(raw_data.stdout)\n",
    "data = CRList(**data)\n",
    "print(f\"Number of pods found {len(data.items)}\")"
   ]
  },
  {
   "cell_type": "markdown",
   "id": "fdfaadc9-f82a-42fe-bf6d-9c816032bfb2",
   "metadata": {},
   "source": [
    "# Filter Data\n",
    "Filter only pods in the RHOAM namespaces"
   ]
  },
  {
   "cell_type": "code",
   "execution_count": 4,
   "id": "8ca8a033-52e2-408b-89a7-63c0f36e851c",
   "metadata": {
    "tags": []
   },
   "outputs": [
    {
     "name": "stdout",
     "output_type": "stream",
     "text": [
      "Number of pods in RHOAM name spaces: 106\n"
     ]
    }
   ],
   "source": [
    "items = []\n",
    "\n",
    "for item in data.items:\n",
    "    if item.metadata.namespace.startswith(\"redhat-rhoam\"):\n",
    "        items.append(item)\n",
    "        \n",
    "print(f\"Number of pods in RHOAM name spaces: {len(items)}\")"
   ]
  },
  {
   "cell_type": "markdown",
   "id": "20245e66-2409-43bd-a3ea-29afe35c5b03",
   "metadata": {},
   "source": [
    "Switch view to use the containers in a pod over the pods.\n",
    "A pod may have many containers with in it, which may have no values set.\n",
    "\n",
    "Sort the containers in to list which have resources set or not.\n"
   ]
  },
  {
   "cell_type": "code",
   "execution_count": 5,
   "id": "09b4083e-2aa4-4ea5-823c-553f9dd046aa",
   "metadata": {},
   "outputs": [
    {
     "name": "stdout",
     "output_type": "stream",
     "text": [
      "132\n"
     ]
    }
   ],
   "source": [
    "units = []\n",
    "\n",
    "for item in items:\n",
    "    for container in item.spec.containers:\n",
    "        unit = Unit()\n",
    "        unit.name = container.name\n",
    "        unit.image = container.image\n",
    "        unit.resources = container.resources\n",
    "        unit.back_ref = item\n",
    "        units.append(unit)\n",
    "\n",
    "print(len(units))"
   ]
  },
  {
   "cell_type": "code",
   "execution_count": 6,
   "id": "357b39e2-d817-4436-81ac-a23788c4d78b",
   "metadata": {},
   "outputs": [],
   "source": [
    "no_limits = []\n",
    "has_limits = []\n",
    "\n",
    "for item in units: \n",
    "    if item.resources.limits is None or item.resources.requests is None:\n",
    "        no_limits.append(item)\n",
    "    else:\n",
    "        has_limits.append(item)"
   ]
  },
  {
   "cell_type": "code",
   "execution_count": 7,
   "id": "dd8f9113-6497-4cd4-aeaa-82d25d73c85d",
   "metadata": {},
   "outputs": [
    {
     "name": "stdout",
     "output_type": "stream",
     "text": [
      "pods with no limits 75\n",
      "pods with limits 57\n"
     ]
    }
   ],
   "source": [
    "print(f\"pods with no limits {len(no_limits)}\")\n",
    "print(f\"pods with limits {len(has_limits)}\")"
   ]
  },
  {
   "cell_type": "markdown",
   "id": "40abcb90-5f8c-4264-818a-d33b06965553",
   "metadata": {},
   "source": [
    "Group the limit issues\n"
   ]
  },
  {
   "cell_type": "code",
   "execution_count": 8,
   "id": "ebe4c296-f572-4618-b23f-7806c2efa290",
   "metadata": {},
   "outputs": [],
   "source": [
    "no_resources = []\n",
    "no_resource_limits = []\n",
    "no_resource_requests = []\n",
    "unknown = []\n",
    "\n",
    "for item in no_limits:\n",
    "    if item.resources.limits is None and item.resources.requests is None:\n",
    "        no_resources.append(item)\n",
    "    elif item.resources.limits is None:\n",
    "        no_resource_limits.append(item)\n",
    "    elif item.resources.requests is None:\n",
    "        no_resource_requests.append(item)\n",
    "    else:\n",
    "        unknown.append(item)\n"
   ]
  },
  {
   "cell_type": "code",
   "execution_count": 9,
   "id": "a00bfd84-52d4-4338-b53f-2d1e2e77641c",
   "metadata": {},
   "outputs": [
    {
     "name": "stdout",
     "output_type": "stream",
     "text": [
      "Number of pods with both sets of resources missing 60\n",
      "Number of pods with limits missing 15\n",
      "Number of pods with request limits missing 0\n"
     ]
    }
   ],
   "source": [
    "print(f\"Number of pods with both sets of resources missing {len(no_resources)}\")\n",
    "print(f\"Number of pods with limits missing {len(no_resource_limits)}\")\n",
    "print(f\"Number of pods with request limits missing {len(no_resource_requests)}\")\n",
    "if len(unknown) > 0:\n",
    "    print(f\"Some pods seem to have issues beeing added to the correct list. Number of these pods are {len(unknown)}\")"
   ]
  },
  {
   "cell_type": "markdown",
   "id": "9ddef296-ad50-43b0-b5f6-f76bda34341d",
   "metadata": {},
   "source": [
    "# Explore data\n",
    "\n",
    "Get the list of pods that have no resources set.\n",
    "Pods that are collect as unknown are not worked on here."
   ]
  },
  {
   "cell_type": "code",
   "execution_count": 10,
   "id": "8e2663f3-936c-4961-9649-f2bb1e374e15",
   "metadata": {},
   "outputs": [
    {
     "name": "stdout",
     "output_type": "stream",
     "text": [
      "Namespace                                  Pod Name                                                    Container Name\n",
      "-----------------------------------------  ----------------------------------------------------------  -----------------------\n",
      "redhat-rhoam-3scale-operator               threescale-operator-controller-manager-8548647f76-m5j2p     kube-rbac-proxy\n",
      "redhat-rhoam-3scale-operator               threescale-operator-controller-manager-8548647f76-m5j2p     manager\n",
      "redhat-rhoam-3scale                        apicast-production-10-deploy                                deployment\n",
      "redhat-rhoam-3scale                        apicast-production-10-dmdbj                                 envoy-sidecar\n",
      "redhat-rhoam-3scale                        apicast-production-10-hc2fc                                 envoy-sidecar\n",
      "redhat-rhoam-3scale                        apicast-production-10-x676j                                 envoy-sidecar\n",
      "redhat-rhoam-3scale                        apicast-production-8-deploy                                 deployment\n",
      "redhat-rhoam-3scale                        apicast-production-9-deploy                                 deployment\n",
      "redhat-rhoam-3scale                        apicast-staging-1-deploy                                    deployment\n",
      "redhat-rhoam-3scale                        apicast-staging-3-889x5                                     apicast-staging\n",
      "redhat-rhoam-3scale                        apicast-staging-3-889x5                                     envoy-sidecar\n",
      "redhat-rhoam-3scale                        apicast-staging-3-deploy                                    deployment\n",
      "redhat-rhoam-3scale                        apicast-staging-3-hg856                                     apicast-staging\n",
      "redhat-rhoam-3scale                        apicast-staging-3-hg856                                     envoy-sidecar\n",
      "redhat-rhoam-3scale                        apicast-staging-3-spf46                                     apicast-staging\n",
      "redhat-rhoam-3scale                        apicast-staging-3-spf46                                     envoy-sidecar\n",
      "redhat-rhoam-3scale                        backend-cron-1-deploy                                       deployment\n",
      "redhat-rhoam-3scale                        backend-cron-2-deploy                                       deployment\n",
      "redhat-rhoam-3scale                        backend-listener-10-5sbxp                                   envoy-sidecar\n",
      "redhat-rhoam-3scale                        backend-listener-10-deploy                                  deployment\n",
      "redhat-rhoam-3scale                        backend-listener-10-fzgqz                                   envoy-sidecar\n",
      "redhat-rhoam-3scale                        backend-listener-10-ld7vd                                   envoy-sidecar\n",
      "redhat-rhoam-3scale                        backend-listener-10-tfc9g                                   envoy-sidecar\n",
      "redhat-rhoam-3scale                        backend-listener-10-vwxcg                                   envoy-sidecar\n",
      "redhat-rhoam-3scale                        backend-listener-4-deploy                                   deployment\n",
      "redhat-rhoam-3scale                        backend-listener-5-deploy                                   deployment\n",
      "redhat-rhoam-3scale                        backend-listener-6-deploy                                   deployment\n",
      "redhat-rhoam-3scale                        backend-worker-2-deploy                                     deployment\n",
      "redhat-rhoam-3scale                        backend-worker-3-deploy                                     deployment\n",
      "redhat-rhoam-3scale                        marin3r-instance-85bcd47f64-2b8dj                           marin3r\n",
      "redhat-rhoam-3scale                        system-app-1-deploy                                         deployment\n",
      "redhat-rhoam-3scale                        system-app-3-deploy                                         deployment\n",
      "redhat-rhoam-3scale                        system-memcache-1-deploy                                    deployment\n",
      "redhat-rhoam-3scale                        system-memcache-2-deploy                                    deployment\n",
      "redhat-rhoam-3scale                        system-sidekiq-1-deploy                                     deployment\n",
      "redhat-rhoam-3scale                        system-sidekiq-3-deploy                                     deployment\n",
      "redhat-rhoam-3scale                        system-sphinx-1-deploy                                      deployment\n",
      "redhat-rhoam-3scale                        system-sphinx-2-deploy                                      deployment\n",
      "redhat-rhoam-3scale                        zync-1-deploy                                               deployment\n",
      "redhat-rhoam-3scale                        zync-2-deploy                                               deployment\n",
      "redhat-rhoam-3scale                        zync-database-1-deploy                                      deployment\n",
      "redhat-rhoam-3scale                        zync-database-2-deploy                                      deployment\n",
      "redhat-rhoam-3scale                        zync-que-1-deploy                                           deployment\n",
      "redhat-rhoam-3scale                        zync-que-2-deploy                                           deployment\n",
      "redhat-rhoam-cloud-resources-operator      cloud-resource-operator-7649f48854-kjvsx                    cloud-resource-operator\n",
      "redhat-rhoam-customer-monitoring-operator  grafana-deployment-d57c957c8-jns2r                          grafana-proxy\n",
      "redhat-rhoam-customer-monitoring-operator  grafana-operator-6b9cb495b9-wt7nn                           grafana-operator\n",
      "redhat-rhoam-marin3r-operator              marin3r-controller-manager-66ccf5b74b-dbtl4                 kube-rbac-proxy\n",
      "redhat-rhoam-marin3r-operator              marin3r-controller-manager-66ccf5b74b-dbtl4                 manager\n",
      "redhat-rhoam-marin3r-operator              marin3r-controller-webhook-6b7c6c95c9-vcfh2                 webhook\n",
      "redhat-rhoam-marin3r-operator              marin3r-controller-webhook-6b7c6c95c9-zzv4s                 webhook\n",
      "redhat-rhoam-observability-operator        observability-operator-controller-manager-856cd7d875-q6q22  manager\n",
      "redhat-rhoam-observability                 alertmanager-alertmanager-0                                 oauth-proxy\n",
      "redhat-rhoam-observability                 grafana-deployment-86855cbddd-j6km6                         grafana-proxy\n",
      "redhat-rhoam-observability                 grafana-operator-6d48d95887-rq26z                           grafana-operator\n",
      "redhat-rhoam-observability                 prometheus-prometheus-0                                     oauth-proxy\n",
      "redhat-rhoam-observability                 prometheus-prometheus-0                                     blackbox-exporter\n",
      "redhat-rhoam-operator                      rhmi-operator-9fbc456d9-s249z                               rhmi-operator\n",
      "redhat-rhoam-rhsso-operator                keycloak-operator-6c66986fd9-ptl44                          keycloak-operator\n",
      "redhat-rhoam-user-sso-operator             keycloak-operator-68966d68d5-rfmpk                          keycloak-operator\n"
     ]
    }
   ],
   "source": [
    "from tabulate import tabulate\n",
    "\n",
    "header = [\"Namespace\", \"Pod Name\", \"Container Name\"]\n",
    "data = []\n",
    "\n",
    "for container in no_resources:\n",
    "    data.append((container.back_ref.metadata.namespace, container.back_ref.metadata.name, container.name))\n",
    "\n",
    "table = tabulate(data, header)\n",
    "print(table)"
   ]
  },
  {
   "cell_type": "markdown",
   "id": "f824d202-03de-4100-a13b-e2b9738596d5",
   "metadata": {},
   "source": [
    "Get the list of pods that have no resource limits set"
   ]
  },
  {
   "cell_type": "code",
   "execution_count": 11,
   "id": "ec95110b-f7ca-4516-8eec-df602d97edd2",
   "metadata": {},
   "outputs": [
    {
     "name": "stdout",
     "output_type": "stream",
     "text": [
      "Namespace                                  Pod Name                                                         Container Name\n",
      "-----------------------------------------  ---------------------------------------------------------------  -------------------------\n",
      "redhat-rhoam-3scale-operator               rhmi-registry-cs-z7mtn                                           configmap-registry-server\n",
      "redhat-rhoam-cloud-resources-operator      ab6dae876ecd4c29693f1be60e8263c7479dc68f6d7d234e512037--1-xs7wl  extract\n",
      "redhat-rhoam-cloud-resources-operator      rhmi-registry-cs-46zmh                                           registry-server\n",
      "redhat-rhoam-customer-monitoring-operator  rhmi-registry-cs-7t5c7                                           configmap-registry-server\n",
      "redhat-rhoam-marin3r-operator              rhmi-registry-cs-sj6nd                                           configmap-registry-server\n",
      "redhat-rhoam-observability-operator        5a7cf5d9ff1ffa83b728b38e5fae4ce7a76850e05e88e3a9482299--1-d8dtv  extract\n",
      "redhat-rhoam-observability-operator        rhmi-registry-cs-chq2h                                           registry-server\n",
      "redhat-rhoam-observability                 01d00ac2ffeab952517ef140263adbad208a5a1ab9ee283a62142c--1-gn76x  extract\n",
      "redhat-rhoam-observability                 2f9f369aff3d39342a3ecd321a6da63ed114189673c3ffc65f803d--1-mctrf  extract\n",
      "redhat-rhoam-observability                 alertmanager-alertmanager-0                                      alertmanager\n",
      "redhat-rhoam-observability                 grafana-operator-catalog-source-kpzw6                            registry-server\n",
      "redhat-rhoam-observability                 prometheus-catalogsource-bk2bf                                   registry-server\n",
      "redhat-rhoam-observability                 prometheus-prometheus-0                                          prometheus\n",
      "redhat-rhoam-rhsso-operator                rhmi-registry-cs-22jrz                                           configmap-registry-server\n",
      "redhat-rhoam-user-sso-operator             rhmi-registry-cs-cwl5n                                           configmap-registry-server\n"
     ]
    }
   ],
   "source": [
    "from tabulate import tabulate\n",
    "\n",
    "header = [\"Namespace\", \"Pod Name\", \"Container Name\"]\n",
    "data = []\n",
    "\n",
    "for container in no_resource_limits:\n",
    "    data.append((container.back_ref.metadata.namespace, container.back_ref.metadata.name, container.name))\n",
    "\n",
    "table = tabulate(data, header)\n",
    "print(table)"
   ]
  },
  {
   "cell_type": "markdown",
   "id": "53c59260-a221-4603-a8a6-379cf62e1426",
   "metadata": {},
   "source": [
    "List the pods that don't have resources set of requests."
   ]
  },
  {
   "cell_type": "code",
   "execution_count": 12,
   "id": "5de58c1a-6279-41f0-8d16-a43e901822ec",
   "metadata": {},
   "outputs": [
    {
     "name": "stdout",
     "output_type": "stream",
     "text": [
      "Namespace    Pod Name    Container Name\n",
      "-----------  ----------  ----------------\n"
     ]
    }
   ],
   "source": [
    "from tabulate import tabulate\n",
    "\n",
    "header = [\"Namespace\", \"Pod Name\", \"Container Name\"]\n",
    "data = []\n",
    "\n",
    "for container in no_resource_requests:\n",
    "    data.append((container.back_ref.metadata.namespace, container.back_ref.metadata.name, container.name))\n",
    "\n",
    "table = tabulate(data, header)\n",
    "print(table)"
   ]
  }
 ],
 "metadata": {
  "kernelspec": {
   "display_name": "Python 3 (ipykernel)",
   "language": "python",
   "name": "python3"
  },
  "language_info": {
   "codemirror_mode": {
    "name": "ipython",
    "version": 3
   },
   "file_extension": ".py",
   "mimetype": "text/x-python",
   "name": "python",
   "nbconvert_exporter": "python",
   "pygments_lexer": "ipython3",
   "version": "3.10.2"
  }
 },
 "nbformat": 4,
 "nbformat_minor": 5
}