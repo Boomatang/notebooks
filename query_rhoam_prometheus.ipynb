{
 "cells": [
  {
   "cell_type": "markdown",
   "source": [
    "# Notes\n",
    "https://access.redhat.com/solutions/4795571"
   ],
   "metadata": {
    "collapsed": false
   }
  },
  {
   "cell_type": "code",
   "execution_count": 11,
   "outputs": [],
   "source": [
    "# imports\n",
    "import base64\n",
    "import json\n",
    "import subprocess\n",
    "import tempfile\n",
    "from pathlib import Path\n",
    "from pprint import pprint\n",
    "from shutil import make_archive, rmtree\n",
    "from urllib.parse import quote, quote_plus\n",
    "from uuid import uuid4\n",
    "\n",
    "import requests\n"
   ],
   "metadata": {
    "collapsed": false
   }
  },
  {
   "cell_type": "code",
   "execution_count": 12,
   "outputs": [],
   "source": [
    "# settings\n",
    "\n",
    "namespace = \"redhat-rhoam-observability\"\n",
    "query = \"ALERT{}\""
   ],
   "metadata": {
    "collapsed": false
   }
  },
  {
   "cell_type": "code",
   "execution_count": 13,
   "outputs": [
    {
     "name": "stdout",
     "output_type": "stream",
     "text": [
      "prometheus-k8s-token-92skh\n"
     ]
    }
   ],
   "source": [
    "# getting secret\n",
    "# secret = subprocess.run([\"oc\", \"get\", \"secret\", \"-n\", namespace, \"|\", \"grep\",  \"prometheus-k8s-token\", \"|\", \"head\", \"-n1\", \"|\", \"awk\", \"'{ print $1 }'\"])\n",
    "data = subprocess.run([\"oc\", \"get\", \"secret\", \"-n\", namespace], capture_output=True)\n",
    "data = data.stdout.decode()\n",
    "data = data.split(\"\\n\")\n",
    "secret = None\n",
    "for d in data:\n",
    "    a = d.split(\" \")\n",
    "    if a[0].startswith(\"prometheus-k8s-token\"):\n",
    "        secret = a[0]\n",
    "        break\n",
    "\n",
    "\n",
    "print(secret)"
   ],
   "metadata": {
    "collapsed": false
   }
  },
  {
   "cell_type": "code",
   "execution_count": 14,
   "outputs": [
    {
     "name": "stdout",
     "output_type": "stream",
     "text": [
      "eyJhbGciOiJSUzI1NiIsImtpZCI6Ik10S2ZWQ0NkWWcxbElKZEVRNF9ESXpYdGluVW9yc09jM3pqNDR3Q3E0X0kifQ.eyJpc3MiOiJrdWJlcm5ldGVzL3NlcnZpY2VhY2NvdW50Iiwia3ViZXJuZXRlcy5pby9zZXJ2aWNlYWNjb3VudC9uYW1lc3BhY2UiOiJyZWRoYXQtcmhvYW0tb2JzZXJ2YWJpbGl0eSIsImt1YmVybmV0ZXMuaW8vc2VydmljZWFjY291bnQvc2VjcmV0Lm5hbWUiOiJwcm9tZXRoZXVzLWs4cy10b2tlbi05MnNraCIsImt1YmVybmV0ZXMuaW8vc2VydmljZWFjY291bnQvc2VydmljZS1hY2NvdW50Lm5hbWUiOiJwcm9tZXRoZXVzLWs4cyIsImt1YmVybmV0ZXMuaW8vc2VydmljZWFjY291bnQvc2VydmljZS1hY2NvdW50LnVpZCI6IjVhOTczYTkyLWExNDYtNDU0ZC1hNTk1LWM3ODRjZGZjODQxNiIsInN1YiI6InN5c3RlbTpzZXJ2aWNlYWNjb3VudDpyZWRoYXQtcmhvYW0tb2JzZXJ2YWJpbGl0eTpwcm9tZXRoZXVzLWs4cyJ9.XhJocX9zjPWz0byu6AwAHTqWPWSP0btA6HVCd3NlEHbkau-dA1xUufXRx3tSsm5ecVoHLfIL0Ke_z3gtPYK6YY0Vzxblc4VL5BzShqs6ag89n7OBfv78i4d_X5050-9S3ndrY1nTnmsrcmZnm16X57P5iyP3wKxiWFPjD0tThoXuUGx1RTSI8Ugzc_AGFksQ8UgXRApRLMnil5xTg9c3j-BJD4AnO5gn4FD_q0qheKr14BnjIKTJg83G9XvyJOh1v5DG5ejTWemB09RwdtbMOKtseNSbklqcOtWBcGX5-r4U_QS_XaFkzLuOaIPAmVj_J52Zj-GATYelEvc77aOhHA6qpeta5ZBJjYA9iM8WZtKb5p6cunn-YNb4s0Bw1m2QDu348rN4aIKMQg_3gZy1dl3idk2HSr-Hv6kVOP8evXEXIqND29PGw7it9PPYudaw-b86jDdsoNBsLokpY2tzehqDZuXkPDsx-QqtaVZwaXcXDHkkKRYsWMVmZDF8xQeQ9E79ezeQNpQG9XRBFmXVcUBb8SWBlK8bbWZnHD66_GO5Vobrb3ZqgnBciTYA7ftFj-YX_CbIX_-Uh7Li6QBWlTEDruzYGEwIm5uT2CSkvYthPU1lGJtp1mLTPZg_6s1wbSvO2GnNIP56gfV-2m497TdOjLYy-R5vyjAoeaacj8E\n"
     ]
    }
   ],
   "source": [
    "# getting token\n",
    "data1 = subprocess.run([\"oc\", \"get\", \"secret\", secret, \"-n\", namespace, \"-o\", \"jsonpath='{.data.token}\" ], capture_output=True)\n",
    "data1 = data1.stdout.decode()\n",
    "token = base64.b64decode(data1).decode()\n",
    "\n",
    "print(token)\n"
   ],
   "metadata": {
    "collapsed": false
   }
  },
  {
   "cell_type": "code",
   "execution_count": 15,
   "outputs": [
    {
     "name": "stdout",
     "output_type": "stream",
     "text": [
      "prometheus-redhat-rhoam-observability.apps.jfitzpat.uq32.s1.devshift.org\n"
     ]
    }
   ],
   "source": [
    "# getting prometheus host\n",
    "data2 = subprocess.run([\"oc\", \"get\", \"route\", \"prometheus\", \"-n\", namespace, \"-o\", \"jsonpath={.spec.host}\" ], capture_output=True)\n",
    "host = data2.stdout.decode()\n",
    "print(host)"
   ],
   "metadata": {
    "collapsed": false
   }
  },
  {
   "cell_type": "code",
   "execution_count": 18,
   "outputs": [],
   "source": [
    "# query the api\n",
    "\n",
    "# get container memory\n",
    "query = \"max by(container) (container_memory_usage_bytes{namespace=~'.+rhoam.+'})\"\n",
    "query = quote_plus(query)\n",
    "resp = requests.get(\n",
    "    f'https://{host}/api/v1/query?query={query}',\n",
    "    headers={\"Authorization\": f\"Bearer {token}\"}\n",
    ")\n",
    "\n"
   ],
   "metadata": {
    "collapsed": false
   }
  },
  {
   "cell_type": "code",
   "execution_count": 20,
   "outputs": [
    {
     "name": "stdout",
     "output_type": "stream",
     "text": [
      "<Response [403]>\n"
     ]
    }
   ],
   "source": [
    "print(resp)\n"
   ],
   "metadata": {
    "collapsed": false
   }
  },
  {
   "cell_type": "code",
   "execution_count": null,
   "outputs": [],
   "source": [],
   "metadata": {
    "collapsed": false
   }
  }
 ],
 "metadata": {
  "kernelspec": {
   "display_name": "Python 3",
   "language": "python",
   "name": "python3"
  },
  "language_info": {
   "codemirror_mode": {
    "name": "ipython",
    "version": 2
   },
   "file_extension": ".py",
   "mimetype": "text/x-python",
   "name": "python",
   "nbconvert_exporter": "python",
   "pygments_lexer": "ipython2",
   "version": "2.7.6"
  }
 },
 "nbformat": 4,
 "nbformat_minor": 0
}
