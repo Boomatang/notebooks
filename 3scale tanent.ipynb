{
 "cells": [
  {
   "cell_type": "code",
   "execution_count": 1,
   "id": "19d284b2-4aea-4512-b17d-2d893516433a",
   "metadata": {},
   "outputs": [],
   "source": [
    "from pprint import pprint\n",
    "import base64\n",
    "import json"
   ]
  },
  {
   "cell_type": "markdown",
   "id": "53c297fb-2dc7-4786-b29f-daaae9b24067",
   "metadata": {},
   "source": [
    "**Get system seed values**\n"
   ]
  },
  {
   "cell_type": "code",
   "execution_count": 2,
   "id": "64441876-1b20-4cac-8905-950fd1e56a3f",
   "metadata": {},
   "outputs": [
    {
     "name": "stdout",
     "output_type": "stream",
     "text": [
      "{'MASTER_ACCESS_TOKEN': 'elNseERZMnk=',\n",
      " 'MASTER_DOMAIN': 'bWFzdGVy',\n",
      " 'MASTER_PASSWORD': 'OXRDQnA5ODg=',\n",
      " 'MASTER_USER': 'bWFzdGVy'}\n"
     ]
    }
   ],
   "source": [
    "master = ! oc get secret system-seed -o yaml | grep MASTER\n",
    "temp = {}\n",
    "\n",
    "for i in master:\n",
    "    v = i.split(\":\")\n",
    "    temp[v[0].strip()] = v[1].strip()\n",
    "    \n",
    "master = temp\n",
    "pprint(master)"
   ]
  },
  {
   "cell_type": "markdown",
   "id": "3959af6c-6bf5-4144-ad97-cabfa38d3dce",
   "metadata": {},
   "source": [
    "**Decode the values of fields `MASTER_USER` & `MASTER_PASSWORD`**"
   ]
  },
  {
   "cell_type": "code",
   "execution_count": 3,
   "id": "683bf102-2223-4f77-9fca-23828383d35c",
   "metadata": {},
   "outputs": [
    {
     "name": "stdout",
     "output_type": "stream",
     "text": [
      "master\n",
      "9tCBp988\n"
     ]
    }
   ],
   "source": [
    "user = base64.b64decode(master[\"MASTER_USER\"]).decode('utf-8')\n",
    "password = base64.b64decode(master[\"MASTER_PASSWORD\"]).decode('utf-8')\n",
    "\n",
    "print(user)\n",
    "print(password)"
   ]
  },
  {
   "cell_type": "markdown",
   "id": "b907f272-8bea-435c-ae7c-a8ea7e0ed31e",
   "metadata": {},
   "source": [
    "**Get the 3scale master admin portal route from the redhat-rhoam-3scale namespace.**"
   ]
  },
  {
   "cell_type": "code",
   "execution_count": 4,
   "id": "e0e45716-3c8a-4ced-9aef-2949d2e9a0c6",
   "metadata": {},
   "outputs": [
    {
     "name": "stdout",
     "output_type": "stream",
     "text": [
      "https://master.apps.boomatang.com\n"
     ]
    }
   ],
   "source": [
    "block = ! oc get route -n redhat-rhoam-3scale | grep \"3scale-master\"\n",
    "b = []\n",
    "a = str(block).split(\" \")\n",
    "for i in a:\n",
    "    if len(i) > 0:\n",
    "        b.append(i)\n",
    "\n",
    "print(f\"https://{b[1]}\")\n"
   ]
  },
  {
   "cell_type": "markdown",
   "id": "f9dd934b-2e65-44ab-86c6-ace0622fdb0b",
   "metadata": {},
   "source": [
    "**Get the routes that have just being created**"
   ]
  },
  {
   "cell_type": "code",
   "execution_count": 6,
   "id": "5244906f-32f1-45d8-80b3-bee2f4d892ac",
   "metadata": {},
   "outputs": [
    {
     "name": "stdout",
     "output_type": "stream",
     "text": [
      "NAME                         HOST/PORT                                                     PATH   SERVICES                 PORT      TERMINATION     WILDCARD\n",
      "backend                      backend-3scale.apps.boomatang.com ... 1 more                         backend-listener-proxy   http      edge/Allow      None\n",
      "zync-3scale-api-28wfp        api-demo-apicast-staging.apps.boomatang.com ... 1 more               apicast-staging          gateway   edge/Redirect   None\n",
      "zync-3scale-api-6c8bp        api-demo-apicast-production.apps.boomatang.com ... 1 more            apicast-production       gateway   edge/Redirect   None\n",
      "zync-3scale-api-q8gxt        api-3scale-apicast-production.apps.boomatang.com ... 1 more          apicast-production       gateway   edge/Redirect   None\n",
      "zync-3scale-api-tp272        api-3scale-apicast-staging.apps.boomatang.com ... 1 more             apicast-staging          gateway   edge/Redirect   None\n",
      "zync-3scale-master-gqqn7     master.apps.boomatang.com ... 1 more                                 system-master            http      edge/Redirect   None\n",
      "zync-3scale-provider-8kchq   demo.apps.boomatang.com ... 1 more                                   system-developer         http      edge/Redirect   None\n",
      "zync-3scale-provider-ndn77   3scale-admin.apps.boomatang.com ... 1 more                           system-provider          http      edge/Redirect   None\n",
      "zync-3scale-provider-wcdcz   3scale.apps.boomatang.com ... 1 more                                 system-developer         http      edge/Redirect   None\n",
      "zync-3scale-provider-zvxl4   demo-admin.apps.boomatang.com ... 1 more                             system-provider          http      edge/Redirect   None\n"
     ]
    }
   ],
   "source": [
    "! oc get routes -n redhat-rhoam-3scale\n"
   ]
  },
  {
   "cell_type": "code",
   "execution_count": null,
   "id": "13caf1af-cfa2-4084-9778-4b376b48de76",
   "metadata": {},
   "outputs": [],
   "source": []
  }
 ],
 "metadata": {
  "kernelspec": {
   "display_name": "Python 3 (ipykernel)",
   "language": "python",
   "name": "python3"
  },
  "language_info": {
   "codemirror_mode": {
    "name": "ipython",
    "version": 3
   },
   "file_extension": ".py",
   "mimetype": "text/x-python",
   "name": "python",
   "nbconvert_exporter": "python",
   "pygments_lexer": "ipython3",
   "version": "3.10.6"
  }
 },
 "nbformat": 4,
 "nbformat_minor": 5
}
