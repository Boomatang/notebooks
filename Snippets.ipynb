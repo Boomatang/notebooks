{
 "cells": [
  {
   "cell_type": "markdown",
   "id": "1f465d8a-11a3-4d27-b610-73f4d054a60e",
   "metadata": {},
   "source": [
    "# Snippets \n",
    "This is a collect of code snippets when doing some work\n"
   ]
  },
  {
   "cell_type": "markdown",
   "id": "a507747c-d57e-43c0-aa09-bae3eaf3c341",
   "metadata": {},
   "source": [
    "# Change working dir to the rhoam operator"
   ]
  },
  {
   "cell_type": "code",
   "execution_count": null,
   "id": "80981d33-0971-4d82-ad87-dd564cfb64c1",
   "metadata": {},
   "outputs": [],
   "source": [
    "import os\n",
    "from pathlib import Path\n",
    "\n",
    "repo = Path.home().joinpath('go/src/github.com/integr8ly/integreatly-operator')\n",
    "os.chdir(repo)\n",
    "os.getcwd()"
   ]
  }
 ],
 "metadata": {
  "kernelspec": {
   "display_name": "Python 3 (ipykernel)",
   "language": "python",
   "name": "python3"
  },
  "language_info": {
   "codemirror_mode": {
    "name": "ipython",
    "version": 3
   },
   "file_extension": ".py",
   "mimetype": "text/x-python",
   "name": "python",
   "nbconvert_exporter": "python",
   "pygments_lexer": "ipython3",
   "version": "3.10.6"
  }
 },
 "nbformat": 4,
 "nbformat_minor": 5
}
